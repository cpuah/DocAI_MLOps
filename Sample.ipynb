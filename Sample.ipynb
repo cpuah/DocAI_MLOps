{
 "cells": [
  {
   "cell_type": "code",
   "execution_count": 11,
   "metadata": {},
   "outputs": [
    {
     "name": "stdout",
     "output_type": "stream",
     "text": [
      "Loaded 1 pages\n"
     ]
    },
    {
     "data": {
      "application/vnd.jupyter.widget-view+json": {
       "model_id": "7d35590da90c47578ecc16b67b0c9a6b",
       "version_major": 2,
       "version_minor": 0
      },
      "text/plain": [
       "Canvas(height=2200, width=1700)"
      ]
     },
     "execution_count": 11,
     "metadata": {},
     "output_type": "execute_result"
    },
    {
     "name": "stdout",
     "output_type": "stream",
     "text": [
      "start - x: 97.1796875, y: 218.1796875\n",
      "end - x: 296.1796875, y: 279.1796875\n"
     ]
    }
   ],
   "source": [
    "from pdf2image import convert_from_path\n",
    "from ipycanvas import Canvas, hold_canvas\n",
    "from ipywidgets import Image\n",
    "\n",
    "poppler_path = 'S:\\\\poppler\\\\poppler-24.02.0\\\\Library\\\\bin'\n",
    "\n",
    "class SquareBorder:\n",
    "    def __init__(self, border_width=2, border_color='black'):\n",
    "        self.border_width = border_width\n",
    "        self.border_color = border_color\n",
    "\n",
    "    def start(self, x, y):\n",
    "        self.x1 = x\n",
    "        self.y1 = y\n",
    "\n",
    "    def end(self, x, y):\n",
    "        self.x2 = x\n",
    "        self.y2 = y\n",
    "\n",
    "    def draw(self, canvas: Canvas):\n",
    "        canvas.stroke_style = self.border_color\n",
    "        canvas.line_width = self.border_width\n",
    "        canvas.stroke_rect(self.x1, self.y1, self.x2 - self.x1, self.y2 - self.y1)\n",
    "        self.normalize(canvas)\n",
    "\n",
    "    def normalize(self, canvas: Canvas):\n",
    "        # normalize the square_border pixels 0..1\n",
    "        self.normal_x1 = self.x1 / canvas.width\n",
    "        self.normal_y1 = self.y1 / canvas.height\n",
    "        self.normal_x2 = self.x2 / canvas.width\n",
    "        self.normal_y2 = self.y2 / canvas.height\n",
    "\n",
    "square_borders = []\n",
    "\n",
    "def handle_mouse_down_start_draw(canvas: Canvas, x, y):\n",
    "    print(f'start - x: {x}, y: {y}')\n",
    "    square_border = SquareBorder()\n",
    "    square_border.start(x, y)\n",
    "    square_borders.append(square_border)\n",
    "\n",
    "def handle_mouse_down_end_draw(canvas: Canvas, x, y):\n",
    "    print(f'end - x: {x}, y: {y}')\n",
    "    square_border = square_borders[-1]\n",
    "    square_border.end(x, y)\n",
    "    square_border.draw(canvas)\n",
    "\n",
    "def load_pdf(filename: str):\n",
    "    pages = convert_from_path(filename, poppler_path=poppler_path, fmt='jpeg')\n",
    "\n",
    "    print(f'Loaded {len(pages)} pages')\n",
    "\n",
    "    canvases = [Canvas(width=page.width, height=page.height) for page in pages]\n",
    "\n",
    "    for i, page in enumerate(pages):\n",
    "        page.save(f'S:\\\\document-intelligence-user-feedback-processor\\\\page_{i}.jpg', 'JPEG')\n",
    "        canvases[i].draw_image(Image.from_file(f'S:\\\\document-intelligence-user-feedback-processor\\\\page_{i}.jpg'), 0, 0, pages[i].width, pages[i].height)\n",
    "        canvases[i].on_mouse_down(lambda x, y: handle_mouse_down_start_draw(canvases[i], x, y))\n",
    "        canvases[i].on_mouse_up(lambda x, y: handle_mouse_down_end_draw(canvases[i], x, y))\n",
    "\n",
    "    return canvases\n",
    "\n",
    "canvases = load_pdf('S:\\\\document-intelligence-user-feedback-processor\\\\Invoice_1.pdf')\n",
    "\n",
    "canvases[0]"
   ]
  },
  {
   "cell_type": "code",
   "execution_count": 12,
   "metadata": {},
   "outputs": [
    {
     "name": "stdout",
     "output_type": "stream",
     "text": [
      "x1: 0.05716452205882353, y1: 0.09917258522727272, x2: 0.1742233455882353, y2: 0.12689985795454545\n"
     ]
    }
   ],
   "source": [
    "# print normalized square_borders\n",
    "for square_border in square_borders:\n",
    "    print(f'x1: {square_border.normal_x1}, y1: {square_border.normal_y1}, x2: {square_border.normal_x2}, y2: {square_border.normal_y2}')"
   ]
  }
 ],
 "metadata": {
  "kernelspec": {
   "display_name": ".venv",
   "language": "python",
   "name": "python3"
  },
  "language_info": {
   "codemirror_mode": {
    "name": "ipython",
    "version": 3
   },
   "file_extension": ".py",
   "mimetype": "text/x-python",
   "name": "python",
   "nbconvert_exporter": "python",
   "pygments_lexer": "ipython3",
   "version": "3.12.2"
  }
 },
 "nbformat": 4,
 "nbformat_minor": 2
}
