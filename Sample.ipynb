{
 "cells": [
  {
   "cell_type": "code",
   "execution_count": 1,
   "metadata": {},
   "outputs": [
    {
     "name": "stdout",
     "output_type": "stream",
     "text": [
      "Loaded 1 pages\n"
     ]
    },
    {
     "data": {
      "application/vnd.jupyter.widget-view+json": {
       "model_id": "6c5b5b394eb348ceb5960d6a0c776546",
       "version_major": 2,
       "version_minor": 0
      },
      "text/plain": [
       "Canvas(height=2200, width=1700)"
      ]
     },
     "execution_count": 1,
     "metadata": {},
     "output_type": "execute_result"
    }
   ],
   "source": [
    "from pdf2image import convert_from_path\n",
    "from ipycanvas import Canvas, hold_canvas\n",
    "from ipywidgets import Image\n",
    "\n",
    "poppler_path = 'S:\\\\poppler\\\\poppler-24.02.0\\\\Library\\\\bin'\n",
    "\n",
    "def load_pdf(filename: str):\n",
    "    pages = convert_from_path(filename, poppler_path=poppler_path, fmt='jpeg')\n",
    "\n",
    "    print(f'Loaded {len(pages)} pages')\n",
    "\n",
    "    canvases = [Canvas(width=page.width, height=page.height) for page in pages]\n",
    "\n",
    "    for i, page in enumerate(pages):\n",
    "        page.save(f'S:\\\\document-intelligence-user-feedback-processor\\\\page_{i}.jpg', 'JPEG')\n",
    "        canvases[i].draw_image(Image.from_file(f'S:\\\\document-intelligence-user-feedback-processor\\\\page_{i}.jpg'), 0, 0, pages[i].width, pages[i].height)\n",
    "        \n",
    "    return canvases\n",
    "\n",
    "canvases = load_pdf('S:\\\\document-intelligence-user-feedback-processor\\\\Invoice_1.pdf')\n",
    "\n",
    "canvases[0]"
   ]
  }
 ],
 "metadata": {
  "kernelspec": {
   "display_name": ".venv",
   "language": "python",
   "name": "python3"
  },
  "language_info": {
   "codemirror_mode": {
    "name": "ipython",
    "version": 3
   },
   "file_extension": ".py",
   "mimetype": "text/x-python",
   "name": "python",
   "nbconvert_exporter": "python",
   "pygments_lexer": "ipython3",
   "version": "3.12.2"
  }
 },
 "nbformat": 4,
 "nbformat_minor": 2
}
