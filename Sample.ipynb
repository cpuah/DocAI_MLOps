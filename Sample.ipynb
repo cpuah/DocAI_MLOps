{
 "cells": [
  {
   "cell_type": "markdown",
   "metadata": {},
   "source": [
    "# Document Intelligence User Feedback Processor Sample"
   ]
  },
  {
   "cell_type": "markdown",
   "metadata": {},
   "source": [
    "## Setup"
   ]
  },
  {
   "cell_type": "code",
   "execution_count": null,
   "metadata": {},
   "outputs": [],
   "source": [
    "from pdf2image import convert_from_path\n",
    "from ipycanvas import Canvas\n",
    "from ipywidgets import Image\n",
    "import pytesseract\n",
    "import os\n",
    "import cv2\n",
    "import json\n",
    "\n",
    "workingDirectory = os.path.abspath('')\n",
    "\n",
    "# Configures the tools to be used\n",
    "poppler_bin_path = os.path.join(workingDirectory, 'tools', 'poppler-24.02.0', 'Library', 'bin')\n",
    "pytesseract_cmd_path = os.path.join(workingDirectory, 'tools', 'Tesseract-OCR', 'tesseract.exe')\n",
    "pytesseract.pytesseract.tesseract_cmd = pytesseract_cmd_path\n",
    "\n",
    "# Defines the path to the PDF file to be processed\n",
    "pdf_path = os.path.join(workingDirectory, 'Invoice_1.pdf')"
   ]
  },
  {
   "cell_type": "markdown",
   "metadata": {},
   "source": [
    "## Define object for tracking the user feedback options"
   ]
  },
  {
   "cell_type": "code",
   "execution_count": null,
   "metadata": {},
   "outputs": [],
   "source": [
    "class SquareBorder:\n",
    "    def __init__(self, image_path_ref: str, page_ref: int, border_width=2, border_color='black'):\n",
    "        self.image_path_ref = image_path_ref\n",
    "        self.page_ref = page_ref\n",
    "        self.border_width = border_width\n",
    "        self.border_color = border_color\n",
    "\n",
    "    def start(self, x, y):\n",
    "        self.start_x = x\n",
    "        self.start_y = y\n",
    "\n",
    "    def end(self, x, y):\n",
    "        self.end_x = x\n",
    "        self.end_y = y\n",
    "\n",
    "    def draw(self, canvas: Canvas):\n",
    "        canvas.stroke_style = self.border_color\n",
    "        canvas.line_width = self.border_width\n",
    "        canvas.stroke_rect(self.start_x, self.start_y, self.end_x - self.start_x, self.end_y - self.start_y)\n",
    "        self.normalize(canvas)\n",
    "\n",
    "    def normalize(self, canvas: Canvas):\n",
    "        # normalize the square_border pixels 0..1\n",
    "        self.start_x_normalized = self.start_x / canvas.width\n",
    "        self.start_y_normalized = self.start_y / canvas.height\n",
    "        self.end_x_normalized = self.end_x / canvas.width\n",
    "        self.end_y_normalized = self.end_y / canvas.height\n",
    "\n",
    "    def extract_text(self):\n",
    "        start_x_int = int(self.start_x)\n",
    "        start_y_int = int(self.start_y)\n",
    "        end_x_int = int(self.end_x)\n",
    "        end_y_int = int(self.end_y)\n",
    "\n",
    "        img = cv2.imread(self.image_path_ref)\n",
    "        crop_img = img[start_y_int:end_y_int, start_x_int:end_x_int]\n",
    "        self.text = pytesseract.image_to_string(crop_img)\n",
    "        return self.text\n",
    "\n",
    "    def get_bounding_box(self):\n",
    "        return [self.start_x_normalized, self.start_y_normalized, self.end_x_normalized, self.start_y_normalized, self.end_x_normalized, self.end_y_normalized, self.start_x_normalized, self.end_y_normalized]\n",
    "\n",
    "    def as_label(self):\n",
    "        return {\n",
    "            \"label\": \"\", \n",
    "            \"value\": [\n",
    "                {\n",
    "                    \"page\": self.page_ref,\n",
    "                    \"text\": self.extract_text(),\n",
    "                    \"boundingBoxes\": [self.get_bounding_box()]\n",
    "                }\n",
    "            ]\n",
    "        }"
   ]
  },
  {
   "cell_type": "markdown",
   "metadata": {},
   "source": [
    "## Load the PDF document into view for user feedback"
   ]
  },
  {
   "cell_type": "code",
   "execution_count": null,
   "metadata": {},
   "outputs": [],
   "source": [
    "square_borders = []\n",
    "\n",
    "def handle_mouse_down_start_draw(canvas: Canvas, x, y):\n",
    "    square_border = SquareBorder(canvas.image_path_ref, canvas.page_ref)\n",
    "    square_border.start(x, y)\n",
    "    square_borders.append(square_border)\n",
    "\n",
    "def handle_mouse_down_end_draw(canvas: Canvas, x, y):\n",
    "    square_border = square_borders[-1]\n",
    "    square_border.end(x, y)\n",
    "    square_border.draw(canvas)\n",
    "\n",
    "def load_pdf(file_path: str):\n",
    "    pages = convert_from_path(file_path, poppler_path=poppler_bin_path, fmt='jpeg')\n",
    "\n",
    "    print(f'Loaded {len(pages)} pages')\n",
    "\n",
    "    canvases = [Canvas(width=page.width, height=page.height) for page in pages]\n",
    "\n",
    "    for i, page in enumerate(pages):\n",
    "        page_image_path = os.path.join(workingDirectory, f'Page_{i}.jpg')\n",
    "        page.save(page_image_path, 'JPEG')\n",
    "        \n",
    "        canvases[i].image_path_ref = page_image_path\n",
    "        canvases[i].page_ref = i + 1\n",
    "\n",
    "        canvases[i].draw_image(Image.from_file(page_image_path), 0, 0, pages[i].width, pages[i].height)\n",
    "        canvases[i].on_mouse_down(lambda x, y: handle_mouse_down_start_draw(canvases[i], x, y))\n",
    "        canvases[i].on_mouse_up(lambda x, y: handle_mouse_down_end_draw(canvases[i], x, y))\n",
    "\n",
    "    return canvases\n",
    "\n",
    "canvases = load_pdf(pdf_path)\n",
    "\n",
    "canvases[0]"
   ]
  },
  {
   "cell_type": "markdown",
   "metadata": {},
   "source": [
    "## Process the user feedback into Document Intelligence labels format"
   ]
  },
  {
   "cell_type": "code",
   "execution_count": null,
   "metadata": {},
   "outputs": [],
   "source": [
    "# To labels.json format\n",
    "labels = {\n",
    "    \"$schema\": \"https://schema.cognitiveservices.azure.com/formrecognizer/2021-03-01/labels.json\",\n",
    "    \"document\": \"Invoice_1.pdf\",\n",
    "    \"labels\": [square_border.as_label() for square_border in square_borders]\n",
    "}\n",
    "\n",
    "# Save to labels.json\n",
    "with open('Sample.labels.json', 'w') as f:\n",
    "    json.dump(labels, f, indent=4)"
   ]
  }
 ],
 "metadata": {
  "kernelspec": {
   "display_name": ".venv",
   "language": "python",
   "name": "python3"
  },
  "language_info": {
   "codemirror_mode": {
    "name": "ipython",
    "version": 3
   },
   "file_extension": ".py",
   "mimetype": "text/x-python",
   "name": "python",
   "nbconvert_exporter": "python",
   "pygments_lexer": "ipython3",
   "version": "3.12.2"
  }
 },
 "nbformat": 4,
 "nbformat_minor": 2
}
