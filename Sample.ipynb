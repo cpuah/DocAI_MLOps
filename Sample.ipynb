{
 "cells": [
  {
   "cell_type": "markdown",
   "metadata": {},
   "source": [
    "# Azure Document Intelligence Custom Template User Feedback Loop Experiment\n",
    "\n",
    "This experiment demonstrates how to replicate the functionality of the [Azure AI Document Intelligence](https://learn.microsoft.com/en-GB/azure/ai-services/document-intelligence/overview) Studio custom model training process. The aim is to showcase how you may implement a user feedback loop for improving the quality of document processing results. The feedback mechanism can be implemented to allow developers of custom models in Azure AI Document Intelligence to collect feedback from users to improve the model's performance.\n",
    "\n",
    "This notebook provides an interactive user feedback experience, enabling a user to analyze a document using a trained model, visualize the analysis results overlaid on the document, and correct any incorrectly identified or missing fields. This implementation could be replicated in any client application using your chosen framework's capabilities, such as React, Angular, or Vue.js.\n",
    "\n",
    "> **Note**: This notebook provides _one_ potential approach to user interaction, and can be interpreted in many ways based on your use case.\n",
    "\n",
    "## Pre-requisites\n",
    "\n",
    "> **Note**: Before continuing, please ensure that the [`Setup-Environment.ps1`](./Setup-Environment.ps1) script has been run to deploy the required infrastructure to Azure. This includes the Azure AI Document Intelligence resource and the Azure Storage account for creating a custom model.\n",
    "\n",
    "This notebook uses [Dev Containers](https://code.visualstudio.com/docs/remote/containers) to ensure that all the required dependencies are available in a consistent local development environment.\n",
    "\n",
    "The following are required to run this notebook:\n",
    "\n",
    "- [Visual Studio Code](https://code.visualstudio.com/)\n",
    "- [Docker Desktop](https://www.docker.com/products/docker-desktop)\n",
    "- [Remote - Containers extension for Visual Studio Code](https://marketplace.visualstudio.com/items?itemName=ms-vscode-remote.remote-containers)\n",
    "\n",
    "> **Note**: The Dev Container is pre-configured with the required dependencies and extensions. You can run this notebook outside of a Dev Container, but you will need to manually install the required dependencies including Poppler, Tesseract, and OpenCV.\n",
    "\n",
    "The Dev Container will include the following dependencies by default:\n",
    "\n",
    "- Debian 11 (Bullseye) base image\n",
    "- Python 3.12\n",
    "  - azure-ai-formrecognizer - for interacting with the Azure AI Document Intelligence service\n",
    "  - azure-core - for interacting with the Azure AI Document Intelligence service\n",
    "  - ipycanvas - for rendering the document and allowing the user to draw over it\n",
    "  - ipykernel - for running the notebook\n",
    "  - notebook - for running the notebook\n",
    "  - opencv-python-headless - for image processing\n",
    "  - pdf2image - for converting PDFs to images\n",
    "  - pytesseract - for performing OCR on the document\n",
    "- Poppler - used by pdf2image to convert PDFs to images\n",
    "- Tesseract OCR - used by pytesseract to perform OCR on the document\n",
    "- Python3 OpenCV - used for image processing"
   ]
  },
  {
   "cell_type": "markdown",
   "metadata": {},
   "source": [
    "## Import Requirements\n",
    "\n",
    "The following code block imports the required dependencies for this notebook.\n",
    "\n",
    "It also configures the following:\n",
    "\n",
    "- Setup the local working directory.\n",
    "- Load local environment variables based on the output of the [`Setup-Environment.ps1`](./Setup-Environment.ps1) script run. The environment variables will be available in the [`.env`](./.env) file.\n",
    "- Initialize the credential that will be used to authentication with the Azure services.\n",
    "\n",
    "> **Note**: The [`Setup-Environment.ps1`](./Setup-Environment.ps1) script is not run as part of this notebook. It must be run separately, prior to running this notebook, to deploy the required infrastructure to Azure."
   ]
  },
  {
   "cell_type": "code",
   "execution_count": 2,
   "metadata": {},
   "outputs": [],
   "source": [
    "import os\n",
    "\n",
    "from dotenv import dotenv_values\n",
    "from azure.identity import DefaultAzureCredential\n",
    "from modules.app_settings import AppSettings\n",
    "from modules.model_training_client import ModelTrainingClient\n",
    "from modules.document_canvas import (DocumentCanvas)\n",
    "from modules.document_intelligence_label import DocumentIntelligenceLabel\n",
    "from modules.document_intelligence_result_formatter import DocumentIntelligenceResultFormatter\n",
    "\n"
   ]
  },
  {
   "cell_type": "code",
   "execution_count": 4,
   "metadata": {},
   "outputs": [],
   "source": [
    "working_dir = os.path.abspath('')\n"
   ]
  },
  {
   "cell_type": "code",
   "execution_count": 5,
   "metadata": {},
   "outputs": [],
   "source": [
    "settings = AppSettings(dotenv_values(f\"{working_dir}/config.env\"))\n"
   ]
  },
  {
   "cell_type": "code",
   "execution_count": 10,
   "metadata": {},
   "outputs": [],
   "source": [
    "azure_credential = DefaultAzureCredential(\n",
    "    exclude_environment_credential=True,\n",
    "    exclude_managed_identity_credential=True,\n",
    "    exclude_shared_token_cache_credential=True,\n",
    "    exclude_interactive_browser_credential=True,\n",
    "    exclude_powershell_credential=True,\n",
    "    exclude_visual_studio_code_credential=False,\n",
    "    exclude_cli_credential=False\n",
    ")"
   ]
  },
  {
   "cell_type": "markdown",
   "metadata": {},
   "source": [
    "## Create a custom extraction model in Azure AI Document Intelligence\n",
    "\n",
    "This experiment comes prepared with the data required to train a custom model. The data is located in the [`model_training`](./model_training/) directory and contains a set of invoices that will be used to create the initial custom model.\n",
    "\n",
    "The following code blocks will create a model training client, using the [`ModelTrainingClient`](./modules/model_training_client.py), and run it to upload the files to and Azure Storage blob container, and training the model using Azure AI Document Intelligence."
   ]
  },
  {
   "cell_type": "code",
   "execution_count": 11,
   "metadata": {},
   "outputs": [],
   "source": [
    "# The name of the model\n",
    "model_name = 'invoices' \n",
    "\n",
    "# The version of the model\n",
    "initial_model_version = '1.0.0'\n",
    "\n",
    "# The name of the model that will be registered in Azure AI Document Intelligence\n",
    "initial_model_id = f\"{model_name}-{initial_model_version}\""
   ]
  },
  {
   "cell_type": "code",
   "execution_count": 12,
   "metadata": {},
   "outputs": [
    {
     "ename": "ValueError",
     "evalue": "Please specify a container name.",
     "output_type": "error",
     "traceback": [
      "\u001b[1;31m---------------------------------------------------------------------------\u001b[0m",
      "\u001b[1;31mValueError\u001b[0m                                Traceback (most recent call last)",
      "Cell \u001b[1;32mIn[12], line 1\u001b[0m\n\u001b[1;32m----> 1\u001b[0m model_training_client \u001b[38;5;241m=\u001b[39m \u001b[43mModelTrainingClient\u001b[49m\u001b[43m(\u001b[49m\u001b[43msettings\u001b[49m\u001b[38;5;241;43m=\u001b[39;49m\u001b[43msettings\u001b[49m\u001b[43m,\u001b[49m\u001b[43m \u001b[49m\u001b[43muse_azure_credential\u001b[49m\u001b[38;5;241;43m=\u001b[39;49m\u001b[38;5;28;43;01mFalse\u001b[39;49;00m\u001b[43m,\u001b[49m\u001b[43m \u001b[49m\u001b[43mazure_credential\u001b[49m\u001b[38;5;241;43m=\u001b[39;49m\u001b[43mazure_credential\u001b[49m\u001b[43m)\u001b[49m\n",
      "File \u001b[1;32mc:\\Users\\CalvinPuah-Pernix\\VSCodeSaves\\DocAIMLOps\\DocAI_MLOps\\modules\\model_training_client.py:36\u001b[0m, in \u001b[0;36mModelTrainingClient.__init__\u001b[1;34m(self, settings, use_azure_credential, azure_credential)\u001b[0m\n\u001b[0;32m     31\u001b[0m     blob_service_client \u001b[38;5;241m=\u001b[39m BlobServiceClient\u001b[38;5;241m.\u001b[39mfrom_connection_string(\n\u001b[0;32m     32\u001b[0m         storage_account_connection_string\n\u001b[0;32m     33\u001b[0m     )\n\u001b[0;32m     34\u001b[0m     azure_credential \u001b[38;5;241m=\u001b[39m AzureKeyCredential(document_intelligence_key)\n\u001b[1;32m---> 36\u001b[0m \u001b[38;5;28mself\u001b[39m\u001b[38;5;241m.\u001b[39mtraining_data_container_client \u001b[38;5;241m=\u001b[39m \u001b[43mblob_service_client\u001b[49m\u001b[38;5;241;43m.\u001b[39;49m\u001b[43mget_container_client\u001b[49m\u001b[43m(\u001b[49m\n\u001b[0;32m     37\u001b[0m \u001b[43m    \u001b[49m\u001b[43mtraining_data_container_name\u001b[49m\u001b[43m)\u001b[49m\n\u001b[0;32m     38\u001b[0m \u001b[38;5;28mself\u001b[39m\u001b[38;5;241m.\u001b[39mdocument_model_admin_client \u001b[38;5;241m=\u001b[39m DocumentModelAdministrationClient(\n\u001b[0;32m     39\u001b[0m     endpoint\u001b[38;5;241m=\u001b[39mdocument_intelligence_endpoint, credential\u001b[38;5;241m=\u001b[39mazure_credential)\n\u001b[0;32m     40\u001b[0m \u001b[38;5;28mself\u001b[39m\u001b[38;5;241m.\u001b[39mdocument_analysis_client \u001b[38;5;241m=\u001b[39m DocumentAnalysisClient(\n\u001b[0;32m     41\u001b[0m     endpoint\u001b[38;5;241m=\u001b[39mdocument_intelligence_endpoint, credential\u001b[38;5;241m=\u001b[39mazure_credential)\n",
      "File \u001b[1;32mc:\\Users\\CalvinPuah-Pernix\\anaconda3\\envs\\DocAI\\Lib\\site-packages\\azure\\storage\\blob\\_blob_service_client.py:735\u001b[0m, in \u001b[0;36mBlobServiceClient.get_container_client\u001b[1;34m(self, container)\u001b[0m\n\u001b[0;32m    730\u001b[0m     container_name \u001b[38;5;241m=\u001b[39m container\n\u001b[0;32m    731\u001b[0m _pipeline \u001b[38;5;241m=\u001b[39m Pipeline(\n\u001b[0;32m    732\u001b[0m     transport\u001b[38;5;241m=\u001b[39mTransportWrapper(\u001b[38;5;28mself\u001b[39m\u001b[38;5;241m.\u001b[39m_pipeline\u001b[38;5;241m.\u001b[39m_transport), \u001b[38;5;66;03m# pylint: disable = protected-access\u001b[39;00m\n\u001b[0;32m    733\u001b[0m     policies\u001b[38;5;241m=\u001b[39m\u001b[38;5;28mself\u001b[39m\u001b[38;5;241m.\u001b[39m_pipeline\u001b[38;5;241m.\u001b[39m_impl_policies \u001b[38;5;66;03m# pylint: disable = protected-access\u001b[39;00m\n\u001b[0;32m    734\u001b[0m )\n\u001b[1;32m--> 735\u001b[0m \u001b[38;5;28;01mreturn\u001b[39;00m \u001b[43mContainerClient\u001b[49m\u001b[43m(\u001b[49m\n\u001b[0;32m    736\u001b[0m \u001b[43m    \u001b[49m\u001b[38;5;28;43mself\u001b[39;49m\u001b[38;5;241;43m.\u001b[39;49m\u001b[43murl\u001b[49m\u001b[43m,\u001b[49m\u001b[43m \u001b[49m\u001b[43mcontainer_name\u001b[49m\u001b[38;5;241;43m=\u001b[39;49m\u001b[43mcontainer_name\u001b[49m\u001b[43m,\u001b[49m\n\u001b[0;32m    737\u001b[0m \u001b[43m    \u001b[49m\u001b[43mcredential\u001b[49m\u001b[38;5;241;43m=\u001b[39;49m\u001b[38;5;28;43mself\u001b[39;49m\u001b[38;5;241;43m.\u001b[39;49m\u001b[43mcredential\u001b[49m\u001b[43m,\u001b[49m\u001b[43m \u001b[49m\u001b[43mapi_version\u001b[49m\u001b[38;5;241;43m=\u001b[39;49m\u001b[38;5;28;43mself\u001b[39;49m\u001b[38;5;241;43m.\u001b[39;49m\u001b[43mapi_version\u001b[49m\u001b[43m,\u001b[49m\u001b[43m \u001b[49m\u001b[43m_configuration\u001b[49m\u001b[38;5;241;43m=\u001b[39;49m\u001b[38;5;28;43mself\u001b[39;49m\u001b[38;5;241;43m.\u001b[39;49m\u001b[43m_config\u001b[49m\u001b[43m,\u001b[49m\n\u001b[0;32m    738\u001b[0m \u001b[43m    \u001b[49m\u001b[43m_pipeline\u001b[49m\u001b[38;5;241;43m=\u001b[39;49m\u001b[43m_pipeline\u001b[49m\u001b[43m,\u001b[49m\u001b[43m \u001b[49m\u001b[43m_location_mode\u001b[49m\u001b[38;5;241;43m=\u001b[39;49m\u001b[38;5;28;43mself\u001b[39;49m\u001b[38;5;241;43m.\u001b[39;49m\u001b[43m_location_mode\u001b[49m\u001b[43m,\u001b[49m\u001b[43m \u001b[49m\u001b[43m_hosts\u001b[49m\u001b[38;5;241;43m=\u001b[39;49m\u001b[38;5;28;43mself\u001b[39;49m\u001b[38;5;241;43m.\u001b[39;49m\u001b[43m_hosts\u001b[49m\u001b[43m,\u001b[49m\n\u001b[0;32m    739\u001b[0m \u001b[43m    \u001b[49m\u001b[43mrequire_encryption\u001b[49m\u001b[38;5;241;43m=\u001b[39;49m\u001b[38;5;28;43mself\u001b[39;49m\u001b[38;5;241;43m.\u001b[39;49m\u001b[43mrequire_encryption\u001b[49m\u001b[43m,\u001b[49m\u001b[43m \u001b[49m\u001b[43mencryption_version\u001b[49m\u001b[38;5;241;43m=\u001b[39;49m\u001b[38;5;28;43mself\u001b[39;49m\u001b[38;5;241;43m.\u001b[39;49m\u001b[43mencryption_version\u001b[49m\u001b[43m,\u001b[49m\n\u001b[0;32m    740\u001b[0m \u001b[43m    \u001b[49m\u001b[43mkey_encryption_key\u001b[49m\u001b[38;5;241;43m=\u001b[39;49m\u001b[38;5;28;43mself\u001b[39;49m\u001b[38;5;241;43m.\u001b[39;49m\u001b[43mkey_encryption_key\u001b[49m\u001b[43m,\u001b[49m\u001b[43m \u001b[49m\u001b[43mkey_resolver_function\u001b[49m\u001b[38;5;241;43m=\u001b[39;49m\u001b[38;5;28;43mself\u001b[39;49m\u001b[38;5;241;43m.\u001b[39;49m\u001b[43mkey_resolver_function\u001b[49m\u001b[43m)\u001b[49m\n",
      "File \u001b[1;32mc:\\Users\\CalvinPuah-Pernix\\anaconda3\\envs\\DocAI\\Lib\\site-packages\\azure\\storage\\blob\\_container_client.py:158\u001b[0m, in \u001b[0;36mContainerClient.__init__\u001b[1;34m(self, account_url, container_name, credential, **kwargs)\u001b[0m\n\u001b[0;32m    156\u001b[0m parsed_url \u001b[38;5;241m=\u001b[39m urlparse(account_url\u001b[38;5;241m.\u001b[39mrstrip(\u001b[38;5;124m'\u001b[39m\u001b[38;5;124m/\u001b[39m\u001b[38;5;124m'\u001b[39m))\n\u001b[0;32m    157\u001b[0m \u001b[38;5;28;01mif\u001b[39;00m \u001b[38;5;129;01mnot\u001b[39;00m container_name:\n\u001b[1;32m--> 158\u001b[0m     \u001b[38;5;28;01mraise\u001b[39;00m \u001b[38;5;167;01mValueError\u001b[39;00m(\u001b[38;5;124m\"\u001b[39m\u001b[38;5;124mPlease specify a container name.\u001b[39m\u001b[38;5;124m\"\u001b[39m)\n\u001b[0;32m    159\u001b[0m \u001b[38;5;28;01mif\u001b[39;00m \u001b[38;5;129;01mnot\u001b[39;00m parsed_url\u001b[38;5;241m.\u001b[39mnetloc:\n\u001b[0;32m    160\u001b[0m     \u001b[38;5;28;01mraise\u001b[39;00m \u001b[38;5;167;01mValueError\u001b[39;00m(\u001b[38;5;124mf\u001b[39m\u001b[38;5;124m\"\u001b[39m\u001b[38;5;124mInvalid URL: \u001b[39m\u001b[38;5;132;01m{\u001b[39;00maccount_url\u001b[38;5;132;01m}\u001b[39;00m\u001b[38;5;124m\"\u001b[39m)\n",
      "\u001b[1;31mValueError\u001b[0m: Please specify a container name."
     ]
    }
   ],
   "source": [
    "model_training_client = ModelTrainingClient(settings=settings, use_azure_credential=False, azure_credential=azure_credential)"
   ]
  },
  {
   "cell_type": "code",
   "execution_count": 5,
   "metadata": {},
   "outputs": [],
   "source": [
    "# Resets the sample environment to only contain the initial training set. This is only necessary if the sample has been run previously.\n",
    "model_training_client.delete_training_data(\"Invoice_6\")\n",
    "\n",
    "# Uploads the initial training set to Azure Blob Storage and initiates model training using the uploaded data.\n",
    "model_training_client.upload_training_data(f\"{working_dir}/model_training\")\n",
    "invoice_model = model_training_client.create_model(model_name=initial_model_id)"
   ]
  },
  {
   "cell_type": "markdown",
   "metadata": {},
   "source": [
    "## Demonstrate a user feedback loop experience for improving the model\n",
    "\n",
    "The user feedback loop is a mechanism that allows users of your model to provide feedback on the quality of the results generated by the model from interactions they have with it using their own data.\n",
    "\n",
    "The following code blocks emulates what a user experience flow may present itself within an intelligent application interfacing with Azure AI Document Intelligence.\n",
    "\n",
    "The steps include:\n",
    "\n",
    "- Analyzing a document using the custom model (this is required for providing the user feedback experience) and the prebuilt-layout model (this is required for the training of the custom model).\n",
    "- Visualizing the analysis results overlaid on the document.\n",
    "- Allowing the user to correct any incorrectly identified or missing fields.\n",
    "- Providing the corrected data to the model for retraining.\n",
    "- Using the retrained model to analyze a document."
   ]
  },
  {
   "cell_type": "code",
   "execution_count": null,
   "metadata": {},
   "outputs": [],
   "source": [
    "# The name of the PDF file the user is providing.\n",
    "pdf_file_name = 'Invoice_6.pdf'\n",
    "\n",
    "# The directory containing the PDF file.\n",
    "pdf_dir = os.path.join(working_dir, 'pdfs')\n",
    "\n",
    "# The file path to the PDF file for loading.\n",
    "pdf_path = os.path.join(pdf_dir, pdf_file_name)\n",
    "\n",
    "# The file path to where the required JSON result from Azure AI Document Intelligence layout analysis will be stored.\n",
    "pdf_ocr_path = os.path.join(pdf_dir, f\"{pdf_file_name}.ocr.json\")\n",
    "\n",
    "# The file path to where the initial analysis of the user feedback document will be stored.\n",
    "pdf_feedback_path = os.path.join(pdf_dir, f\"{pdf_file_name}.ocr_{initial_model_version}.json\")\n",
    "\n",
    "# The file path to where the required JSON result for Azure AI Document Intelligence labels will be stored after user feedback.\n",
    "pdf_labels_path = os.path.join(pdf_dir, f\"{pdf_file_name}.labels.json\")\n",
    "\n",
    "# The file path to where the required document fields are, based on the original model training data.\n",
    "document_fields_path = os.path.join(working_dir, 'model_training', 'fields.json')"
   ]
  },
  {
   "cell_type": "markdown",
   "metadata": {},
   "source": [
    "### Run layout analysis on the document using Azure AI Document Intelligence\n",
    "\n",
    "This step will use the Azure AI Document Intelligence service to perform layout analysis on the PDF document. When complete, the files will be saved to the `./pdfs` directory with the name format `<pdf_file_name>.ocr.json`.\n",
    "\n",
    "> **Note**: These specific steps do not need to be run every time. The layout analysis is only required to be run once to capture the initial state of the document."
   ]
  },
  {
   "cell_type": "code",
   "execution_count": null,
   "metadata": {},
   "outputs": [],
   "source": [
    "# Retraining a model requires that the OCR result provided in the training data set is created using the 'prebuilt-layout' model.\n",
    "model_training_client.run_layout_analysis(pdf_path, pdf_ocr_path, 'prebuilt-layout')"
   ]
  },
  {
   "cell_type": "code",
   "execution_count": null,
   "metadata": {},
   "outputs": [],
   "source": [
    "# For providing the feedback, the user would perform their analysis using your initial model.\n",
    "model_training_client.run_layout_analysis(pdf_path, pdf_feedback_path, initial_model_id)"
   ]
  },
  {
   "cell_type": "markdown",
   "metadata": {},
   "source": [
    "### Display the document in the notebook for user feedback\n",
    "\n",
    "This step will render the document inside the notebook for the user to interact with. This is only a visual representation for the purpose of this experiment, and in a real-world scenario, this would be implemented in a client application.\n",
    "\n",
    "The following code block will perform the following:\n",
    "\n",
    "1. Load a document and store each page as an image.\n",
    "1. Display the rendered image below as an interactive element in an output cell, rendering the output of the layout analysis over the image as label regions.\n",
    "1. Allow you to move, remove, and resize label regions on the rendered image, and add fields to correct any incorrectly identified or missing fields."
   ]
  },
  {
   "cell_type": "code",
   "execution_count": null,
   "metadata": {},
   "outputs": [],
   "source": [
    "doc_canvas = DocumentCanvas(working_dir)\n",
    "\n",
    "canvases = doc_canvas.load_pdf(pdf_path, document_fields_path, pdf_feedback_path)\n",
    "for canvas in canvases:\n",
    "    display(canvas)"
   ]
  },
  {
   "cell_type": "markdown",
   "metadata": {},
   "source": [
    "### Process the user feedback into Document Intelligence labels format\n",
    "\n",
    "Once the user has corrected the document analysis, the following code will process the label regions into the labels JSON format used by the Azure AI Document Intelligence service. The files will be saved to the `./pdfs` directory with the name format `<pdf_file_name>.labels.json`.\n",
    "\n",
    "In a real-world scenario, labels may be presented alongside the rendered document UI, connected to the label regions, to allow the user to update the text and field, and then retrain the model using the updated labels and PDF documents.\n",
    "\n",
    "The following code blocks will render the label regions as UI inputs. The inputs will be pre-populated, and you can update the details of each label associated with the document before re-training."
   ]
  },
  {
   "cell_type": "code",
   "execution_count": null,
   "metadata": {},
   "outputs": [],
   "source": [
    "labels = [DocumentIntelligenceLabel(label_region, doc_canvas.fields) for label_region in doc_canvas.get_document_labels()]\n",
    "    \n",
    "for label in labels:\n",
    "    display(label.render())"
   ]
  },
  {
   "cell_type": "markdown",
   "metadata": {},
   "source": [
    "### Create the labels JSON file\n",
    "\n",
    "Once the user has updated the labels and text associated with the label regions, the following code block will create the labels JSON file in the format required by the Azure AI Document Intelligence service. The file will be saved to the `./pdfs` directory with the name format `<pdf_file_name>.labels.json`."
   ]
  },
  {
   "cell_type": "code",
   "execution_count": null,
   "metadata": {},
   "outputs": [],
   "source": [
    "DocumentIntelligenceResultFormatter.save_to_labels_json(labels, pdf_file_name, pdf_labels_path)"
   ]
  },
  {
   "cell_type": "markdown",
   "metadata": {},
   "source": [
    "## Retrain the model using the updated labels and PDF documents\n",
    "\n",
    "The next step emulates a post-user feedback loop experience, where the updated labels and PDF documents are used to retrain the model using the Azure AI Document Intelligence service. \n",
    "\n",
    "This would typically be done by you, as the application developer, manually by reviewing your user's feedback, selecting the appropriate documents to retrain the model with, and then processing them through the Azure AI Document Intelligence service.\n",
    "\n",
    "The following code blocks will upload the updated labels and PDF documents to the Azure Storage blob container for the model training data set, and then retrain the model using the Azure AI Document Intelligence service. The updated model will then be used to analyze a document."
   ]
  },
  {
   "cell_type": "code",
   "execution_count": null,
   "metadata": {},
   "outputs": [],
   "source": [
    "# The version of the updated model, in this example, a minor change by adding a new training document.\n",
    "updated_model_version = \"1.1.0\"\n",
    "\n",
    "# The name of the model that will be registered in Azure AI Document Intelligence\n",
    "updated_model_id = f\"{model_name}-{updated_model_version}\"\n",
    "\n",
    "# Uploads the updated user feedback documents to Azure Blob Storage and initiates model training using both the existing and new data.\n",
    "model_training_client.upload_training_data(pdf_dir)\n",
    "updated_model = model_training_client.create_model(model_name=updated_model_id)"
   ]
  },
  {
   "cell_type": "code",
   "execution_count": null,
   "metadata": {},
   "outputs": [],
   "source": [
    "# The file path to where the updated analysis of the user feedback document will be stored.\n",
    "pdf_updated_analysis_path = os.path.join(pdf_dir, f\"{pdf_file_name}.ocr_{updated_model_version}.json\")\n",
    "\n",
    "# Run layout analysis with the updated model\n",
    "model_training_client.run_layout_analysis(pdf_path, pdf_updated_analysis_path, updated_model_id)"
   ]
  }
 ],
 "metadata": {
  "kernelspec": {
   "display_name": "Python 3 (ipykernel)",
   "language": "python",
   "name": "python3"
  },
  "language_info": {
   "codemirror_mode": {
    "name": "ipython",
    "version": 3
   },
   "file_extension": ".py",
   "mimetype": "text/x-python",
   "name": "python",
   "nbconvert_exporter": "python",
   "pygments_lexer": "ipython3",
   "version": "3.12.4"
  }
 },
 "nbformat": 4,
 "nbformat_minor": 2
}
